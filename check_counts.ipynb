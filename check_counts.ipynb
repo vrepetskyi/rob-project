{
 "cells": [
  {
   "cell_type": "code",
   "execution_count": 126,
   "metadata": {},
   "outputs": [],
   "source": [
    "from pathlib import Path\n",
    "import pandas as pd\n",
    "import numpy as np\n",
    "import cv2\n",
    "import os\n",
    "\n",
    "DS = Path(\"dataset\")\n",
    "\n",
    "recordings = sorted(DS.glob(\"*.csv\"))\n",
    "for recording in recordings:\n",
    "    csvfile = Path(recording).name\n",
    "    df = pd.read_csv(DS / csvfile, header=None)\n",
    "    recordid = csvfile[:-4]\n",
    "    img_files = sorted((DS / recordid).glob(\"*.jpg\"))\n",
    "    assert len(img_files) == len(df), f\"num of img files: {len(img_files)} is not equal to num of df labels: {len(df)} - in - {recordid}\"\n",
    "print(\"OK\")"
   ]
  }
 ],
 "metadata": {
  "kernelspec": {
   "display_name": "ir",
   "language": "python",
   "name": "python3"
  },
  "language_info": {
   "codemirror_mode": {
    "name": "ipython",
    "version": 3
   },
   "file_extension": ".py",
   "mimetype": "text/x-python",
   "name": "python",
   "nbconvert_exporter": "python",
   "pygments_lexer": "ipython3",
   "version": "3.11.5"
  }
 },
 "nbformat": 4,
 "nbformat_minor": 2
}
